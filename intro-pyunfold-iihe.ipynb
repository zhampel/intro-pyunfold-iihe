{
 "cells": [
  {
   "cell_type": "markdown",
   "metadata": {
    "slideshow": {
     "slide_type": "slide"
    }
   },
   "source": [
    "# PyUnfold: The Python Unfolding Package\n",
    "\n",
    "## Zigfried Hampel-Arias\n",
    "\n",
    "### IIHE -- Brussels, BE\n",
    "23 May, 2018"
   ]
  },
  {
   "cell_type": "markdown",
   "metadata": {
    "slideshow": {
     "slide_type": "slide"
    }
   },
   "source": [
    "### PyUnfold Site:\n",
    "https://jrbourbeau.github.io/pyunfold/index.html <br>\n",
    "\n",
    "### PyUnfold GitHub repo:\n",
    "https://github.com/jrbourbeau/pyunfold <br>\n",
    "\n",
    "### Slides:\n",
    "https://zhampel.github.io/intro-pyunfold-iihe\n",
    "\n",
    "\n",
    "### Contact:\n",
    "E-mail: [jbourbeau@icecube.wisc.edu](mailto:jbourbeau@icecube.wisc.edu), [zhampel@wipac.wisc.edu](mailto:zhampel@wipac.wisc.edu)\n",
    "\n",
    "<a href=\"https://zhampel.github.io/\">\n",
    "<img src=\"images/octocat.png\" alt=\"Go My GitHub\" width=\"60\" height=\"60\" border=\"0\"> </a>\n",
    "\n",
    "<a href=\"https://www.linkedin.com/in/zhampel-arias/\">\n",
    "<img src=\"images/LinkedIn-InBug-2C.png\" alt=\"Go to my LinkedIn\" width=\"60\" height=\"60\" border=\"0\">\n",
    "</a>"
   ]
  },
  {
   "cell_type": "markdown",
   "metadata": {
    "slideshow": {
     "slide_type": "slide"
    }
   },
   "source": [
    "# The Measurement Process\n",
    "\n",
    "An *ideal* detector:\n",
    "- Makes **no error** measuring a desired quantity\n",
    "- Makes **no bias** or shift in a desired quantity"
   ]
  },
  {
   "cell_type": "markdown",
   "metadata": {
    "slideshow": {
     "slide_type": "fragment"
    }
   },
   "source": [
    "Real world detectors have:\n",
    "- Finite resolutions\n",
    "- Characteristic biases\n",
    "- Efficiencies <100%\n",
    "- Statistical + systematic uncertainties"
   ]
  },
  {
   "cell_type": "markdown",
   "metadata": {
    "slideshow": {
     "slide_type": "slide"
    }
   },
   "source": [
    "# Measuring Distributions\n",
    "\n",
    "\n",
    "- Distribution $\\phi(C)$ of **causes** $C_{\\mu}$\n",
    "- Distribution $n(E)$ of **effects** $E_j$\n",
    "- Detector *response matrix* $R_{\\mu j}$ connecting **causes &rarr; effects**\n",
    "\n",
    "$$\n",
    "n(E) = \\mathbf{R} \\, \\phi(C)\n",
    "$$"
   ]
  },
  {
   "cell_type": "markdown",
   "metadata": {
    "slideshow": {
     "slide_type": "fragment"
    }
   },
   "source": [
    "- $n(E)$ is what we **observe**\n",
    "- $\\mathbf{R}$ is known or estimated\n",
    "- $\\phi(C)$ is the truth what we **want**"
   ]
  },
  {
   "cell_type": "markdown",
   "metadata": {
    "slideshow": {
     "slide_type": "slide"
    }
   },
   "source": [
    "# Physics Example: Cosmic Ray Spectrum\n",
    "\n",
    "| ![effects](images/effects.png)  | ![response](images/response-matrix.png) | <img src=\"images/causes.jpeg\" width=\"700\"> |\n",
    "|:---:|:---:|:---:|\n",
    "| $n(E)$ | $\\mathbf{R}$ | $\\phi(C)$ |\n",
    "\n",
    "From [Phys. Rev. D 96, 122001](https://journals.aps.org/prd/abstract/10.1103/PhysRevD.96.122001)"
   ]
  },
  {
   "cell_type": "markdown",
   "metadata": {
    "slideshow": {
     "slide_type": "slide"
    }
   },
   "source": [
    "# Getting What We Want\n",
    "\n",
    "Two ways to get $\\phi(C)$:"
   ]
  },
  {
   "cell_type": "markdown",
   "metadata": {
    "slideshow": {
     "slide_type": "fragment"
    }
   },
   "source": [
    "- Guess a form of $\\phi(C)$ and *fold* with response $\\mathbf{R}$\n",
    "    - Easy, *cheap* to evaluate\n",
    "    - **Restricted** to analytic forms"
   ]
  },
  {
   "cell_type": "markdown",
   "metadata": {
    "slideshow": {
     "slide_type": "fragment"
    }
   },
   "source": [
    "- Start with $n(E)$ and *unfold* $\\phi(C)$\n",
    "    - **No restrictions** on form\n",
    "    - Have to *trust* solution\n"
   ]
  },
  {
   "cell_type": "markdown",
   "metadata": {
    "slideshow": {
     "slide_type": "slide"
    }
   },
   "source": [
    "# Cosmic Rays Again\n",
    "\n",
    "| ![effects](images/effects.png)  | ![response](images/response-matrix.png) | <img src=\"images/causes.jpeg\" width=\"700\"> |\n",
    "|:---:|:---:|:---:|\n",
    "| $n(E)$ | $\\mathbf{R}$ | $\\phi(C)$ |\n",
    "| **Unfolding** &rarr;|  | &larr; **Folding** |\n",
    "\n",
    "From [Phys. Rev. D 96, 122001](https://journals.aps.org/prd/abstract/10.1103/PhysRevD.96.122001)"
   ]
  },
  {
   "cell_type": "markdown",
   "metadata": {
    "slideshow": {
     "slide_type": "slide"
    }
   },
   "source": [
    "# Deconvolution\n",
    "\n",
    "So why don't we just invert $\\mathbf{R}$?\n",
    "\n",
    "What if\n",
    "- an analytic form of $\\mathbf{R}$ d.n.e.?\n",
    "- $\\mathbf{R}$ is built from finite simulation?\n",
    "- $\\mathbf{R}$ is not be invertible?"
   ]
  },
  {
   "cell_type": "markdown",
   "metadata": {
    "slideshow": {
     "slide_type": "fragment"
    }
   },
   "source": [
    "Proposal: build a matrix $\\mathbf{M}$ s.t.\n",
    "\n",
    "$$\n",
    "\\begin{align}\n",
    "    \\mathbf{M} &\\approx \\mathbf{R}^{-1} \\\\\n",
    "    \\phi(C) &\\approx \\mathbf{M} \\, n(E)\n",
    "\\end{align}\n",
    "$$"
   ]
  },
  {
   "cell_type": "markdown",
   "metadata": {
    "slideshow": {
     "slide_type": "slide"
    }
   },
   "source": [
    "# PyUnfold\n",
    "\n",
    "![pyunfold](images/logo-dark.png)\n",
    "\n",
    "A Python package to account for imperfect measurements in an iterative *unfolding*."
   ]
  },
  {
   "cell_type": "markdown",
   "metadata": {
    "slideshow": {
     "slide_type": "slide"
    }
   },
   "source": [
    "# PyUnfold\n",
    "\n",
    "A Python package to account for imperfect measurements in an iterative *unfolding*\\*.\n",
    "\n",
    "Authors: [James Bourbeau](mailto:jbourbeau@icecube.wisc.edu), [Zig Hampel](mailto:zhampel@wipac.wisc.edu)\n",
    "\n",
    "PyUnfold provides users:\n",
    "- A tool for the analysis of measurement effects on physical distributions, i.e. calculate $\\mathbf{M}$\n",
    "- A straightforward API that's **experimentally agnostic**, beyond HEP\n",
    "- The ability to **easily** incorporate both $\\sigma_{\\text{stat}}$ and $\\sigma_{\\text{sys}}$\n",
    "\n",
    "Installation: `pip install pyunfold`\n",
    "\n",
    "\\* [D'Agostini (1995)](https://www.sciencedirect.com/science/article/pii/016890029500274X)"
   ]
  },
  {
   "cell_type": "markdown",
   "metadata": {
    "slideshow": {
     "slide_type": "slide"
    }
   },
   "source": [
    "## PyUnfold Inputs\n",
    "\n",
    "To use PyUnfold, one needs only to provide the\n",
    "\n",
    "- Measured effects distribution\n",
    "- Response matrix\n",
    "- Prior distribution"
   ]
  },
  {
   "cell_type": "code",
   "execution_count": 1,
   "metadata": {
    "slideshow": {
     "slide_type": "skip"
    }
   },
   "outputs": [],
   "source": [
    "    from pyunfold import iterative_unfold\n",
    "\n",
    "    # Observed distributions\n",
    "    data = [100, 150]\n",
    "    data_err = [10, 12.2]\n",
    "\n",
    "    # Response matrix\n",
    "    response = [[0.9, 0.1],\n",
    "                [0.1, 0.9]]\n",
    "    response_err = [[0.01, 0.01],\n",
    "                    [0.01, 0.01]]\n",
    "\n",
    "    # Detection efficiencies\n",
    "    efficiencies = [1, 1]\n",
    "    efficiencies_err = [0.01, 0.01]"
   ]
  },
  {
   "cell_type": "code",
   "execution_count": 2,
   "metadata": {
    "slideshow": {
     "slide_type": "fragment"
    }
   },
   "outputs": [],
   "source": [
    "# Perform iterative unfolding\n",
    "unfolded_result = iterative_unfold(data=data,\n",
    "                                   data_err=data_err,\n",
    "                                   response=response,\n",
    "                                   response_err=response_err,\n",
    "                                   efficiencies=efficiencies,\n",
    "                                   efficiencies_err=efficiencies_err)"
   ]
  },
  {
   "cell_type": "markdown",
   "metadata": {
    "slideshow": {
     "slide_type": "slide"
    }
   },
   "source": [
    "## Features: Prior\n",
    "\n",
    "Flexibility of prior to test results's robustness\n",
    "   - Uniform\n",
    "   - Jeffreys\n",
    "   - User-defined\n",
    "    \n",
    "Other unfolding toolkits do not permit user defined prior."
   ]
  },
  {
   "cell_type": "code",
   "execution_count": 3,
   "metadata": {
    "slideshow": {
     "slide_type": "skip"
    }
   },
   "outputs": [],
   "source": [
    "from pyunfold import iterative_unfold\n",
    "from pyunfold.callbacks import Logger\n",
    "\n",
    "import numpy as np\n",
    "np.random.seed(2)\n",
    "\n",
    "# True distribution\n",
    "num_samples = int(1e5)\n",
    "true_samples = np.random.normal(loc=10.0, scale=4.0, size=num_samples)\n",
    "bins = np.linspace(0, 20, 21)\n",
    "num_causes = len(bins) - 1\n",
    "data_true, _ = np.histogram(true_samples, bins=bins)\n",
    "\n",
    "# Observed distribution\n",
    "random_noise = np.random.normal(loc=0.3, scale=0.5, size=num_samples)\n",
    "observed_samples = true_samples + random_noise\n",
    "data_observed, _ = np.histogram(observed_samples, bins=bins)\n",
    "data_observed_err = np.sqrt(data_observed)\n",
    "\n",
    "# Efficiencies\n",
    "efficiencies = np.ones_like(data_observed, dtype=float)\n",
    "efficiencies_err = np.full_like(efficiencies, 0.1, dtype=float)\n",
    "\n",
    "# Response matrix\n",
    "response_hist, _, _ = np.histogram2d(observed_samples, true_samples, bins=bins)\n",
    "response_hist_err = np.sqrt(response_hist)\n",
    "\n",
    "# Normalized response\n",
    "column_sums = response_hist.sum(axis=0)\n",
    "normalization_factor = efficiencies / column_sums\n",
    "\n",
    "response = response_hist * normalization_factor\n",
    "response_err = response_hist_err * normalization_factor"
   ]
  },
  {
   "cell_type": "code",
   "execution_count": 4,
   "metadata": {
    "slideshow": {
     "slide_type": "fragment"
    }
   },
   "outputs": [],
   "source": [
    "from pyunfold.priors import jeffreys_prior, uniform_prior\n",
    "cause_lim = np.logspace(0, 3, num_causes)\n",
    "uni_prior = uniform_prior(num_causes)\n",
    "jeff_prior = jeffreys_prior(cause_lim)"
   ]
  },
  {
   "cell_type": "markdown",
   "metadata": {
    "slideshow": {
     "slide_type": "slide"
    }
   },
   "source": [
    "## Features: Prior\n",
    "\n",
    "![priors](images/priors.png)"
   ]
  },
  {
   "cell_type": "code",
   "execution_count": 5,
   "metadata": {
    "slideshow": {
     "slide_type": "slide"
    }
   },
   "outputs": [
    {
     "name": "stdout",
     "output_type": "stream",
     "text": [
      "Running with uniform prior...\n",
      "Iteration 1: ts = 0.1460, ts_stopping = 0.01\n",
      "Iteration 2: ts = 0.0060, ts_stopping = 0.01\n",
      "\n",
      "Running with Jeffreys prior...\n",
      "Iteration 1: ts = 0.7231, ts_stopping = 0.01\n",
      "Iteration 2: ts = 0.0171, ts_stopping = 0.01\n",
      "Iteration 3: ts = 0.0006, ts_stopping = 0.01\n"
     ]
    }
   ],
   "source": [
    "print('Running with uniform prior...')\n",
    "unfolded_uniform = iterative_unfold(data=data_observed,\n",
    "                                    data_err=data_observed_err,\n",
    "                                    response=response,\n",
    "                                    response_err=response_err,\n",
    "                                    efficiencies=efficiencies,\n",
    "                                    efficiencies_err=efficiencies_err,\n",
    "                                    ts='ks',\n",
    "                                    ts_stopping=0.01,\n",
    "                                    callbacks=[Logger()])\n",
    "\n",
    "print('\\nRunning with Jeffreys prior...')\n",
    "unfolded_jeffreys = iterative_unfold(data=data_observed,\n",
    "                                     data_err=data_observed_err,\n",
    "                                     response=response,\n",
    "                                     response_err=response_err,\n",
    "                                     efficiencies=efficiencies,\n",
    "                                     efficiencies_err=efficiencies_err,\n",
    "                                     prior=jeff_prior,\n",
    "                                     ts='ks',\n",
    "                                     ts_stopping=0.01,\n",
    "                                     callbacks=[Logger()])"
   ]
  },
  {
   "cell_type": "markdown",
   "metadata": {
    "slideshow": {
     "slide_type": "slide"
    }
   },
   "source": [
    "![prior-unfolded](images/prior-unfolded.png)"
   ]
  },
  {
   "cell_type": "markdown",
   "metadata": {
    "slideshow": {
     "slide_type": "slide"
    }
   },
   "source": [
    "## Features: Convergence\n",
    "\n",
    "Stopping criteria based on test statistic (TS)\n",
    "   - User defined TS tolerance\n",
    "   - K-S, $\\chi^2$, RMD, Bayes factor\n",
    "   \n",
    "Other unfolding toolkits set default $N_{\\text{iter}}=4$. \n",
    "\n",
    "M. [Kuusela](https://indico.cern.ch/event/671301/contributions/2746051/attachments/1557280/2449596/DIANA_Nov_2017.pdf): Countless LHC papers using $4$ iterations of D'Agostini unfolding."
   ]
  },
  {
   "cell_type": "markdown",
   "metadata": {
    "slideshow": {
     "slide_type": "slide"
    }
   },
   "source": [
    "## Features: Regularization\n",
    "\n",
    "- Smoothing at each iteration with univariate spline\n",
    "    - Optional callback\n",
    "    - Strength parameter is required variable\n",
    "- **Multidimensional** capabilities\n",
    "    - Groups or blocks of causes\n",
    "    - $R_{\\mu j} \\to R_{\\mu \\nu j}$ *unravelled*\n",
    "    - Regularization **only** in groups\n",
    "    \n",
    "Optimal reg. strength problem dependent, **default does not exist**."
   ]
  },
  {
   "cell_type": "markdown",
   "metadata": {
    "slideshow": {
     "slide_type": "slide"
    }
   },
   "source": [
    "## Regularizing a Bad Prior\n",
    "\n",
    "![bumpy-prior](images/bumpy-prior.png)"
   ]
  },
  {
   "cell_type": "markdown",
   "metadata": {
    "slideshow": {
     "slide_type": "slide"
    }
   },
   "source": [
    "## Regularizing a Bad Prior\n",
    "\n",
    "![regularization](images/regularization.png)"
   ]
  },
  {
   "cell_type": "markdown",
   "metadata": {
    "slideshow": {
     "slide_type": "slide"
    }
   },
   "source": [
    "# Extensive Documentation\n",
    "\n",
    "### PyUnfold Site:\n",
    "https://jrbourbeau.github.io/pyunfold/index.html <br>\n",
    "\n",
    "### PyUnfold GitHub repo:\n",
    "https://github.com/jrbourbeau/pyunfold <br>\n",
    "\n",
    "\n",
    "### Other:\n",
    "[Introductory](https://jrbourbeau.github.io/pyunfold/notebooks/tutorial.html) and \n",
    "[advanced](https://jrbourbeau.github.io/pyunfold/advanced.html) example notebooks\n",
    "\n",
    "Mathematical [details](https://jrbourbeau.github.io/pyunfold/mathematics.html)\n"
   ]
  },
  {
   "cell_type": "markdown",
   "metadata": {
    "slideshow": {
     "slide_type": "slide"
    }
   },
   "source": [
    "## Other Unfolding Resources\n",
    "\n",
    "D'Agostini:\n",
    "- Original [paper](https://www.sciencedirect.com/science/article/pii/016890029500274X)\n",
    "- [Update](https://arxiv.org/abs/1010.0632)\n",
    "\n",
    "Statistician M. Kuusela:\n",
    "\n",
    "- [Intro to Unfolding Methods](https://mkuusela.web.cern.ch/mkuusela/T2K_workshop_Sep_2016/T2K_unfolding_Sep_2016.pdf)\n",
    "- [Current View of Unfolding Software](https://indico.cern.ch/event/671301/contributions/2746051/attachments/1557280/2449596/DIANA_Nov_2017.pdf)"
   ]
  },
  {
   "cell_type": "markdown",
   "metadata": {
    "slideshow": {
     "slide_type": "slide"
    }
   },
   "source": [
    "# Current Status\n",
    "\n",
    "- Can be used used out of the box right now: `pip install pyunfold`\n",
    "\n",
    "- Flexible framework. [Submit](https://jrbourbeau.github.io/pyunfold/contributing.html) an issue if you see something you want to change or see!\n",
    "\n",
    "- PyUnfold submitted to J.O.S.S. Under [review](https://github.com/openjournals/joss-papers/blob/joss.00741/joss.00741/10.21105.joss.00741.pdf)\n",
    "\n",
    "- Designed to make it easier to:\n",
    "    - run an iterative unfolding\n",
    "    - test robustness of results\n",
    "\n",
    "- Hoping to make unfolding accessible beyond HEP"
   ]
  },
  {
   "cell_type": "markdown",
   "metadata": {
    "slideshow": {
     "slide_type": "slide"
    }
   },
   "source": [
    "# Thank you!\n",
    "![sunset](images/sunset-gsl.jpg)"
   ]
  },
  {
   "cell_type": "code",
   "execution_count": null,
   "metadata": {},
   "outputs": [],
   "source": []
  }
 ],
 "metadata": {
  "celltoolbar": "Slideshow",
  "kernelspec": {
   "display_name": "Python 3",
   "language": "python",
   "name": "python3"
  },
  "language_info": {
   "codemirror_mode": {
    "name": "ipython",
    "version": 3
   },
   "file_extension": ".py",
   "mimetype": "text/x-python",
   "name": "python",
   "nbconvert_exporter": "python",
   "pygments_lexer": "ipython3",
   "version": "3.6.5"
  }
 },
 "nbformat": 4,
 "nbformat_minor": 2
}
